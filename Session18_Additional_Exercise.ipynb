{
 "cells": [
  {
   "cell_type": "code",
   "execution_count": 1,
   "metadata": {},
   "outputs": [],
   "source": [
    "import pandas as pd\n",
    "import numpy as np\n",
    "import matplotlib.pyplot as plt\n",
    "%matplotlib inline"
   ]
  },
  {
   "cell_type": "code",
   "execution_count": 2,
   "metadata": {},
   "outputs": [
    {
     "data": {
      "text/html": [
       "<div>\n",
       "<style scoped>\n",
       "    .dataframe tbody tr th:only-of-type {\n",
       "        vertical-align: middle;\n",
       "    }\n",
       "\n",
       "    .dataframe tbody tr th {\n",
       "        vertical-align: top;\n",
       "    }\n",
       "\n",
       "    .dataframe thead th {\n",
       "        text-align: right;\n",
       "    }\n",
       "</style>\n",
       "<table border=\"1\" class=\"dataframe\">\n",
       "  <thead>\n",
       "    <tr style=\"text-align: right;\">\n",
       "      <th></th>\n",
       "      <th>SI No.</th>\n",
       "      <th>TV</th>\n",
       "      <th>Radio</th>\n",
       "      <th>Newspaper</th>\n",
       "      <th>Sales</th>\n",
       "    </tr>\n",
       "  </thead>\n",
       "  <tbody>\n",
       "    <tr>\n",
       "      <th>0</th>\n",
       "      <td>1</td>\n",
       "      <td>230.1</td>\n",
       "      <td>37.8</td>\n",
       "      <td>69.2</td>\n",
       "      <td>22.1</td>\n",
       "    </tr>\n",
       "    <tr>\n",
       "      <th>1</th>\n",
       "      <td>2</td>\n",
       "      <td>44.5</td>\n",
       "      <td>39.3</td>\n",
       "      <td>45.1</td>\n",
       "      <td>10.4</td>\n",
       "    </tr>\n",
       "    <tr>\n",
       "      <th>2</th>\n",
       "      <td>3</td>\n",
       "      <td>17.2</td>\n",
       "      <td>45.9</td>\n",
       "      <td>69.3</td>\n",
       "      <td>9.3</td>\n",
       "    </tr>\n",
       "    <tr>\n",
       "      <th>3</th>\n",
       "      <td>4</td>\n",
       "      <td>151.5</td>\n",
       "      <td>41.3</td>\n",
       "      <td>58.5</td>\n",
       "      <td>18.5</td>\n",
       "    </tr>\n",
       "    <tr>\n",
       "      <th>4</th>\n",
       "      <td>5</td>\n",
       "      <td>180.8</td>\n",
       "      <td>10.8</td>\n",
       "      <td>58.4</td>\n",
       "      <td>12.9</td>\n",
       "    </tr>\n",
       "  </tbody>\n",
       "</table>\n",
       "</div>"
      ],
      "text/plain": [
       "   SI No.     TV  Radio  Newspaper  Sales\n",
       "0       1  230.1   37.8       69.2   22.1\n",
       "1       2   44.5   39.3       45.1   10.4\n",
       "2       3   17.2   45.9       69.3    9.3\n",
       "3       4  151.5   41.3       58.5   18.5\n",
       "4       5  180.8   10.8       58.4   12.9"
      ]
     },
     "execution_count": 2,
     "metadata": {},
     "output_type": "execute_result"
    }
   ],
   "source": [
    "df=pd.read_csv('Advertisement.csv')\n",
    "df.head()"
   ]
  },
  {
   "cell_type": "code",
   "execution_count": 3,
   "metadata": {},
   "outputs": [
    {
     "data": {
      "text/html": [
       "<div>\n",
       "<style scoped>\n",
       "    .dataframe tbody tr th:only-of-type {\n",
       "        vertical-align: middle;\n",
       "    }\n",
       "\n",
       "    .dataframe tbody tr th {\n",
       "        vertical-align: top;\n",
       "    }\n",
       "\n",
       "    .dataframe thead th {\n",
       "        text-align: right;\n",
       "    }\n",
       "</style>\n",
       "<table border=\"1\" class=\"dataframe\">\n",
       "  <thead>\n",
       "    <tr style=\"text-align: right;\">\n",
       "      <th></th>\n",
       "      <th>TV</th>\n",
       "      <th>Radio</th>\n",
       "      <th>Newspaper</th>\n",
       "      <th>Sales</th>\n",
       "    </tr>\n",
       "  </thead>\n",
       "  <tbody>\n",
       "    <tr>\n",
       "      <th>0</th>\n",
       "      <td>230.1</td>\n",
       "      <td>37.8</td>\n",
       "      <td>69.2</td>\n",
       "      <td>22.1</td>\n",
       "    </tr>\n",
       "    <tr>\n",
       "      <th>1</th>\n",
       "      <td>44.5</td>\n",
       "      <td>39.3</td>\n",
       "      <td>45.1</td>\n",
       "      <td>10.4</td>\n",
       "    </tr>\n",
       "    <tr>\n",
       "      <th>2</th>\n",
       "      <td>17.2</td>\n",
       "      <td>45.9</td>\n",
       "      <td>69.3</td>\n",
       "      <td>9.3</td>\n",
       "    </tr>\n",
       "    <tr>\n",
       "      <th>3</th>\n",
       "      <td>151.5</td>\n",
       "      <td>41.3</td>\n",
       "      <td>58.5</td>\n",
       "      <td>18.5</td>\n",
       "    </tr>\n",
       "    <tr>\n",
       "      <th>4</th>\n",
       "      <td>180.8</td>\n",
       "      <td>10.8</td>\n",
       "      <td>58.4</td>\n",
       "      <td>12.9</td>\n",
       "    </tr>\n",
       "  </tbody>\n",
       "</table>\n",
       "</div>"
      ],
      "text/plain": [
       "      TV  Radio  Newspaper  Sales\n",
       "0  230.1   37.8       69.2   22.1\n",
       "1   44.5   39.3       45.1   10.4\n",
       "2   17.2   45.9       69.3    9.3\n",
       "3  151.5   41.3       58.5   18.5\n",
       "4  180.8   10.8       58.4   12.9"
      ]
     },
     "execution_count": 3,
     "metadata": {},
     "output_type": "execute_result"
    }
   ],
   "source": [
    "del df['SI No.']\n",
    "df.head()"
   ]
  },
  {
   "cell_type": "code",
   "execution_count": 4,
   "metadata": {},
   "outputs": [
    {
     "name": "stdout",
     "output_type": "stream",
     "text": [
      "<class 'pandas.core.frame.DataFrame'>\n",
      "RangeIndex: 15 entries, 0 to 14\n",
      "Data columns (total 4 columns):\n",
      "TV           15 non-null float64\n",
      "Radio        15 non-null float64\n",
      "Newspaper    15 non-null float64\n",
      "Sales        15 non-null float64\n",
      "dtypes: float64(4)\n",
      "memory usage: 560.0 bytes\n"
     ]
    }
   ],
   "source": [
    "df.info()"
   ]
  },
  {
   "cell_type": "code",
   "execution_count": 5,
   "metadata": {},
   "outputs": [
    {
     "name": "stderr",
     "output_type": "stream",
     "text": [
      "C:\\Users\\saraswathy\\Anaconda3\\lib\\site-packages\\matplotlib\\axes\\_axes.py:6462: UserWarning: The 'normed' kwarg is deprecated, and has been replaced by the 'density' kwarg.\n",
      "  warnings.warn(\"The 'normed' kwarg is deprecated, and has been \"\n"
     ]
    },
    {
     "data": {
      "text/plain": [
       "<matplotlib.axes._subplots.AxesSubplot at 0x1f60571b5f8>"
      ]
     },
     "execution_count": 5,
     "metadata": {},
     "output_type": "execute_result"
    },
    {
     "data": {
      "image/png": "[encoded data removed]",
      "text/plain": [
       "<Figure size 432x288 with 1 Axes>"
      ]
     },
     "metadata": {},
     "output_type": "display_data"
    }
   ],
   "source": [
    "import seaborn as sns\n",
    "sns.distplot(df.Sales)"
   ]
  },
  {
   "cell_type": "code",
   "execution_count": 225,
   "metadata": {},
   "outputs": [
    {
     "name": "stdout",
     "output_type": "stream",
     "text": [
      "['TV', 'Radio', 'Newspaper', 'Sales']\n"
     ]
    },
    {
     "data": {
      "image/png": "[encoded data removed]",
      "text/plain": [
       "<Figure size 432x288 with 1 Axes>"
      ]
     },
     "metadata": {},
     "output_type": "display_data"
    },
    {
     "data": {
      "image/png": "[encoded data removed]",
      "text/plain": [
       "<Figure size 432x288 with 1 Axes>"
      ]
     },
     "metadata": {},
     "output_type": "display_data"
    },
    {
     "data": {
      "image/png": "[encoded data removed]",
      "text/plain": [
       "<Figure size 432x288 with 1 Axes>"
      ]
     },
     "metadata": {},
     "output_type": "display_data"
    },
    {
     "data": {
      "image/png": "[encoded data removed]",
      "text/plain": [
       "<Figure size 432x288 with 1 Axes>"
      ]
     },
     "metadata": {},
     "output_type": "display_data"
    }
   ],
   "source": [
    "col = list(df.columns)\n",
    "print(col)\n",
    "\n",
    "for i in col:\n",
    "    ax=sns.boxplot(x=i, data=df)\n",
    "    plt.show()"
   ]
  },
  {
   "cell_type": "markdown",
   "metadata": {},
   "source": [
    "## Linear Regression model - Univariate\n",
    "A simple linear regression model is given by 'Y=mX+b'\n",
    "where m is the slope and b is the y-intercept. Y is the dependent variable and X is the explanatory variable.\n",
    "Linear Regression is a class of techniques for fitting a straight line to a set of data points."
   ]
  },
  {
   "cell_type": "code",
   "execution_count": 183,
   "metadata": {},
   "outputs": [],
   "source": [
    "from sklearn import datasets, linear_model\n",
    "from sklearn.metrics import mean_squared_error, r2_score\n",
    "from sklearn.model_selection import train_test_split\n",
    "import statsmodels.formula.api as smf"
   ]
  },
  {
   "cell_type": "markdown",
   "metadata": {},
   "source": [
    "## (1) TV and Sales"
   ]
  },
  {
   "cell_type": "code",
   "execution_count": 196,
   "metadata": {},
   "outputs": [
    {
     "name": "stdout",
     "output_type": "stream",
     "text": [
      "Intercept,b: [6.98]\n",
      "coefficient,m: [[0.05]]\n",
      "Rsq=  0.69\n"
     ]
    }
   ],
   "source": [
    "#Linear Regression\n",
    "X = df.TV #Predictor (independant(s))\n",
    "Y = df.Sales #Response (dependant)\n",
    "X=np.array(X).reshape(-1,1)\n",
    "Y=np.array(Y).reshape(-1,1)\n",
    "#fit a model\n",
    "lm = linear_model.LinearRegression()\n",
    "model=lm.fit(X,Y)\n",
    "#Intercepts or Slope & Coefficient\n",
    "print('Intercept,b:',np.round(lm.intercept_,2))\n",
    "print('coefficient,m:', np.round(lm.coef_,2))\n",
    "print('Rsq= ', np.round(lm.score(X,Y),2))"
   ]
  },
  {
   "cell_type": "code",
   "execution_count": 197,
   "metadata": {},
   "outputs": [
    {
     "name": "stdout",
     "output_type": "stream",
     "text": [
      "Intercept    6.98\n",
      "TV           0.05\n",
      "dtype: float64\n",
      "Rsq=  0.69\n"
     ]
    }
   ],
   "source": [
    "#Stats model\n",
    "lms = smf.ols(formula='Sales ~ TV', data=df).fit()\n",
    "# print the coefficients\n",
    "print(np.round(lms.params,2))\n",
    "print('Rsq= ',np.round(lms.rsquared,2))"
   ]
  },
  {
   "cell_type": "markdown",
   "metadata": {},
   "source": [
    "## Sales = 0.05 (TV)  + 6.98\n",
    "Simple linear regression equation (y=mx+b)"
   ]
  },
  {
   "cell_type": "markdown",
   "metadata": {},
   "source": [
    "## (2) Radio and Sales"
   ]
  },
  {
   "cell_type": "code",
   "execution_count": 200,
   "metadata": {},
   "outputs": [
    {
     "name": "stdout",
     "output_type": "stream",
     "text": [
      "Intercept,b: [10.]\n",
      "coefficient,m: [[0.09]]\n",
      "Rsq=  0.09\n"
     ]
    }
   ],
   "source": [
    "#Linear Regression\n",
    "X = df.Radio #Predictor (independant(s))\n",
    "Y = df.Sales #Response (dependant)\n",
    "X=np.array(X).reshape(-1,1)\n",
    "Y=np.array(Y).reshape(-1,1)\n",
    "#fit a model\n",
    "lm = linear_model.LinearRegression()\n",
    "model=lm.fit(X,Y)\n",
    "#Intercepts or Slope & Coefficient\n",
    "print('Intercept,b:',np.round(lm.intercept_,2))\n",
    "print('coefficient,m:', np.round(lm.coef_,2))\n",
    "print('Rsq= ', np.round(lm.score(X,Y),2))"
   ]
  },
  {
   "cell_type": "code",
   "execution_count": 201,
   "metadata": {},
   "outputs": [
    {
     "name": "stdout",
     "output_type": "stream",
     "text": [
      "Intercept    10.00\n",
      "Radio         0.09\n",
      "dtype: float64\n",
      "Rsq=  0.09\n"
     ]
    }
   ],
   "source": [
    "#Stats model\n",
    "lms = smf.ols(formula='Sales ~ Radio', data=df).fit()\n",
    "# print the coefficients\n",
    "print(np.round(lms.params,2))\n",
    "print('Rsq= ',np.round(lms.rsquared,2))"
   ]
  },
  {
   "cell_type": "markdown",
   "metadata": {},
   "source": [
    "## Sales = 0.09 (Radio)  + 10\n",
    "Simple linear regression equation (y=mx+b)"
   ]
  },
  {
   "cell_type": "markdown",
   "metadata": {},
   "source": [
    "## (3) Newspaper and Sales"
   ]
  },
  {
   "cell_type": "code",
   "execution_count": 202,
   "metadata": {},
   "outputs": [
    {
     "name": "stdout",
     "output_type": "stream",
     "text": [
      "Intercept,b: [10.89]\n",
      "coefficient,m: [[0.04]]\n",
      "Rsq=  0.04\n"
     ]
    }
   ],
   "source": [
    "#Linear Regression\n",
    "X = df.Newspaper #Predictor (independant(s))\n",
    "Y = df.Sales #Response (dependant)\n",
    "X=np.array(X).reshape(-1,1)\n",
    "Y=np.array(Y).reshape(-1,1)\n",
    "#fit a model\n",
    "lm = linear_model.LinearRegression()\n",
    "model=lm.fit(X,Y)\n",
    "#Intercepts or Slope & Coefficient\n",
    "print('Intercept,b:',np.round(lm.intercept_,2))\n",
    "print('coefficient,m:', np.round(lm.coef_,2))\n",
    "print('Rsq= ', np.round(lm.score(X,Y),2))"
   ]
  },
  {
   "cell_type": "code",
   "execution_count": 203,
   "metadata": {},
   "outputs": [
    {
     "name": "stdout",
     "output_type": "stream",
     "text": [
      "Intercept    10.89\n",
      "Newspaper     0.04\n",
      "dtype: float64\n",
      "Rsq=  0.04\n"
     ]
    }
   ],
   "source": [
    "#Stats model\n",
    "lms = smf.ols(formula='Sales ~ Newspaper', data=df).fit()\n",
    "# print the coefficients\n",
    "print(np.round(lms.params,2))\n",
    "print('Rsq= ',np.round(lms.rsquared,2))"
   ]
  },
  {
   "cell_type": "markdown",
   "metadata": {},
   "source": [
    "## Sales =   0.04 (Newspaper) + 10.89\n",
    "Simple linear regression equation (y=mx+b)"
   ]
  },
  {
   "cell_type": "markdown",
   "metadata": {},
   "source": [
    "## (4) Visualization of the goodness of fit"
   ]
  },
  {
   "cell_type": "code",
   "execution_count": 204,
   "metadata": {},
   "outputs": [
    {
     "data": {
      "text/plain": [
       "<seaborn.axisgrid.PairGrid at 0x1f608021080>"
      ]
     },
     "execution_count": 204,
     "metadata": {},
     "output_type": "execute_result"
    },
    {
     "data": {
      "image/png": "[encoded data removed]",
      "text/plain": [
       "<Figure size 1058.4x504 with 3 Axes>"
      ]
     },
     "metadata": {},
     "output_type": "display_data"
    }
   ],
   "source": [
    "sns.pairplot(df, x_vars=['TV','Radio','Newspaper'], y_vars='Sales', size=7, aspect=0.7, kind='reg')"
   ]
  },
  {
   "cell_type": "markdown",
   "metadata": {},
   "source": [
    "## Train & Test data set\n",
    "Splitting the dataset into 80/20 ratio. 80% belongs to training and 20% belongs to test"
   ]
  },
  {
   "cell_type": "code",
   "execution_count": 260,
   "metadata": {},
   "outputs": [
    {
     "name": "stdout",
     "output_type": "stream",
     "text": [
      "Intercept,b: [7.14]\n",
      "coefficient,m: [[0.04]]\n",
      "Rsq (test score)=  0.38\n"
     ]
    }
   ],
   "source": [
    "#(1)TV and Sales\n",
    "X1 = df.TV #Predictor (independant(s))\n",
    "Y = df.Sales #Response (dependant)\n",
    "X1=np.array(X1).reshape(-1,1)\n",
    "Y=np.array(Y).reshape(-1,1)\n",
    "X1_train,X1_test,Y_train,Y_test=train_test_split(X1,Y,test_size=0.2)\n",
    "#fit a model\n",
    "lm = linear_model.LinearRegression()\n",
    "model=lm.fit(X1_train,Y_train)\n",
    "Y_pred = lm.predict(X1_test)\n",
    "#Intercepts or Slope & Coefficient\n",
    "print('Intercept,b:',np.round(lm.intercept_,2))\n",
    "print('coefficient,m:', np.round(lm.coef_,2))\n",
    "print('Rsq (test score)= ', np.round(r2_score(Y_test, Y_pred),2))"
   ]
  },
  {
   "cell_type": "markdown",
   "metadata": {},
   "source": [
    "## Sales = 0.04 (TV)  + 7.14\n",
    "Simple linear regression equation (y=mx+b)"
   ]
  },
  {
   "cell_type": "code",
   "execution_count": 266,
   "metadata": {},
   "outputs": [
    {
     "data": {
      "text/plain": [
       "Text(0,0.5,'Predicted Sales')"
      ]
     },
     "execution_count": 266,
     "metadata": {},
     "output_type": "execute_result"
    },
    {
     "data": {
      "image/png": "[encoded data removed]",
      "text/plain": [
       "<Figure size 576x432 with 1 Axes>"
      ]
     },
     "metadata": {},
     "output_type": "display_data"
    }
   ],
   "source": [
    "#Visualization\n",
    "x = X1_test.flatten()\n",
    "m,b = np.polyfit(x, Y_pred, 1) \n",
    "x= X1.flatten()\n",
    "\n",
    "plt.figure(figsize=(8,6))\n",
    "plt.scatter(X1,Y)\n",
    "plt.plot(x, m*x+b, c= 'r', marker='o')\n",
    "plt.xlabel('TV')\n",
    "plt.ylabel('Predicted Sales')"
   ]
  },
  {
   "cell_type": "code",
   "execution_count": 292,
   "metadata": {},
   "outputs": [
    {
     "name": "stdout",
     "output_type": "stream",
     "text": [
      "Intercept,b: [10.46]\n",
      "coefficient,m: [[0.07]]\n",
      "Rsq (test score)=  0.24\n"
     ]
    }
   ],
   "source": [
    "#(2)Radio and Sales\n",
    "X2 = df.Radio #Predictor (independant(s))\n",
    "Y = df.Sales #Response (dependant)\n",
    "X2=np.array(X2).reshape(-1,1)\n",
    "Y=np.array(Y).reshape(-1,1)\n",
    "X2_train,X2_test,Y_train,Y_test=train_test_split(X2,Y,test_size=0.2)\n",
    "#fit a model\n",
    "lm = linear_model.LinearRegression()\n",
    "model=lm.fit(X2_train,Y_train)\n",
    "Y_pred = lm.predict(X2_test)\n",
    "#Intercepts or Slope & Coefficient\n",
    "print('Intercept,b:',np.round(lm.intercept_,2))\n",
    "print('coefficient,m:', np.round(lm.coef_,2))\n",
    "print('Rsq (test score)= ', np.round(r2_score(Y_test, Y_pred),2))"
   ]
  },
  {
   "cell_type": "markdown",
   "metadata": {},
   "source": [
    "## Sales = 0.07 (Radio)  + 10.46\n",
    "Simple linear regression equation (y=mx+b)"
   ]
  },
  {
   "cell_type": "code",
   "execution_count": 293,
   "metadata": {},
   "outputs": [
    {
     "data": {
      "text/plain": [
       "Text(0,0.5,'Predicted Sales')"
      ]
     },
     "execution_count": 293,
     "metadata": {},
     "output_type": "execute_result"
    },
    {
     "data": {
      "image/png": "[encoded data removed]",
      "text/plain": [
       "<Figure size 576x432 with 1 Axes>"
      ]
     },
     "metadata": {},
     "output_type": "display_data"
    }
   ],
   "source": [
    "#Visualization\n",
    "x = X2_test.flatten()\n",
    "m,b = np.polyfit(x, Y_pred, 1) \n",
    "x= X2.flatten()\n",
    "\n",
    "plt.figure(figsize=(8,6))\n",
    "plt.scatter(X2,Y)\n",
    "plt.plot(x, m*x+b, c= 'r', marker='o')\n",
    "plt.xlabel('Radio')\n",
    "plt.ylabel('Predicted Sales')"
   ]
  },
  {
   "cell_type": "code",
   "execution_count": 310,
   "metadata": {},
   "outputs": [
    {
     "name": "stdout",
     "output_type": "stream",
     "text": [
      "Intercept,b: [11.47]\n",
      "coefficient,m: [[0.03]]\n",
      "Rsq (test score)=  -0.61\n"
     ]
    }
   ],
   "source": [
    "#(3)Newspaper and Sales\n",
    "X3 = df.Newspaper #Predictor (independant(s))\n",
    "Y = df.Sales #Response (dependant)\n",
    "X3=np.array(X3).reshape(-1,1)\n",
    "Y=np.array(Y).reshape(-1,1)\n",
    "X3_train,X3_test,Y_train,Y_test=train_test_split(X3,Y,test_size=0.2)\n",
    "#fit a model\n",
    "lm = linear_model.LinearRegression()\n",
    "model=lm.fit(X3_train,Y_train)\n",
    "Y_pred = lm.predict(X3_test)\n",
    "#Intercepts or Slope & Coefficient\n",
    "print('Intercept,b:',np.round(lm.intercept_,2))\n",
    "print('coefficient,m:', np.round(lm.coef_,2))\n",
    "print('Rsq (test score)= ', np.round(r2_score(Y_test, Y_pred),2))"
   ]
  },
  {
   "cell_type": "markdown",
   "metadata": {},
   "source": [
    "## Sales =   0.03 (Newspaper) + 11.47\n",
    "Simple linear regression equation (y=mx+b)"
   ]
  },
  {
   "cell_type": "code",
   "execution_count": 311,
   "metadata": {},
   "outputs": [
    {
     "data": {
      "text/plain": [
       "Text(0,0.5,'Predicted Sales')"
      ]
     },
     "execution_count": 311,
     "metadata": {},
     "output_type": "execute_result"
    },
    {
     "data": {
      "image/png": "[encoded data removed]",
      "text/plain": [
       "<Figure size 576x432 with 1 Axes>"
      ]
     },
     "metadata": {},
     "output_type": "display_data"
    }
   ],
   "source": [
    "#Visualization\n",
    "x = X3_test.flatten()\n",
    "m,b = np.polyfit(x, Y_pred, 1) \n",
    "x= X3.flatten()\n",
    "\n",
    "plt.figure(figsize=(8,6))\n",
    "plt.scatter(X3,Y)\n",
    "plt.plot(x, m*x+b, c= 'r', marker='o')\n",
    "plt.xlabel('Radio')\n",
    "plt.ylabel('Predicted Sales')"
   ]
  },
  {
   "cell_type": "code",
   "execution_count": null,
   "metadata": {},
   "outputs": [],
   "source": []
  }
 ],
 "metadata": {
  "kernelspec": {
   "display_name": "Python 3",
   "language": "python",
   "name": "python3"
  },
  "language_info": {
   "codemirror_mode": {
    "name": "ipython",
    "version": 3
   },
   "file_extension": ".py",
   "mimetype": "text/x-python",
   "name": "python",
   "nbconvert_exporter": "python",
   "pygments_lexer": "ipython3",
   "version": "3.6.5"
  }
 },
 "nbformat": 4,
 "nbformat_minor": 2
}
